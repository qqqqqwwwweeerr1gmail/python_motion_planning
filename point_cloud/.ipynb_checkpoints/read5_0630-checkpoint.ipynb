{
 "cells": [
  {
   "cell_type": "code",
   "execution_count": 1,
   "id": "4af35278-9bf5-44ce-aec3-77cff94cd85a",
   "metadata": {},
   "outputs": [],
   "source": [
    "import math\n",
    "\n",
    "import numpy as np\n",
    "import matplotlib.pyplot as plt\n",
    "from plyfile import PlyData\n",
    "from matplotlib.colors import ListedColormap\n",
    "\n",
    "\n",
    "def create_walkability_map(ply_path, dpi=100, height_threshold=11.5):\n",
    "    plydata = PlyData.read(ply_path)\n",
    "    vertices = plydata['vertex']\n",
    "    x = vertices['x']\n",
    "    y = vertices['y']  # Height/attitude values\n",
    "    z = vertices['z']\n",
    "\n",
    "    xx = vertices.data['x']\n",
    "\n",
    "    z = [-i for i in z]\n",
    "\n",
    "    # Calculate grid dimensions\n",
    "    min_x, max_x = np.min(x), np.max(x)\n",
    "    min_z, max_z = np.min(z), np.max(z)\n",
    "    min_y, max_y = np.min(y), np.max(y)\n",
    "\n",
    "    range_x = (max_x - min_x)\n",
    "    range_y = (max_y - min_y)\n",
    "    range_z = (max_z - min_z)\n",
    "\n",
    "    dpi_x = math.sqrt(dpi*dpi/(range_x*range_x))*range_x\n",
    "    dpi_z = math.sqrt(dpi*dpi/(range_z*range_z))*range_z\n",
    "\n",
    "    grid_size_x = range_x/dpi_x\n",
    "    grid_size_z = range_z/dpi_z\n",
    "\n",
    "\n",
    "\n",
    "    # grid_size = int((max_x - min_x) / dpi)\n",
    "\n",
    "    # Create grid bins\n",
    "    x_bins = np.arange(min_x, max_x + grid_size_x, grid_size_x)\n",
    "    z_bins = np.arange(min_z, max_z + grid_size_z, grid_size_z)\n",
    "\n",
    "    # Initialize height extremes\n",
    "    grid_max = np.full((len(x_bins) - 1, len(z_bins) - 1), -np.inf)\n",
    "    grid_min = np.full((len(x_bins) - 1, len(z_bins) - 1), np.inf)\n",
    "\n",
    "    point_count = np.zeros((len(x_bins) - 1, len(z_bins) - 1), dtype=int)\n",
    "    height_sum = np.zeros((len(x_bins) - 1, len(z_bins) - 1))\n",
    "    height_avg = np.zeros((len(x_bins) - 1, len(z_bins) - 1), dtype=int)\n",
    "\n",
    "    # Assign points to grid cells\n",
    "    for xi, yi, zi in zip(x, y, z):\n",
    "        x_idx = np.digitize(xi, x_bins) - 1\n",
    "        z_idx = np.digitize(zi, z_bins) - 1\n",
    "\n",
    "        # Handle edge cases\n",
    "        x_idx = max(0, min(x_idx, grid_max.shape[0] - 1))\n",
    "        z_idx = max(0, min(z_idx, grid_max.shape[1] - 1))\n",
    "\n",
    "        # Update height extremes\n",
    "        grid_max[x_idx, z_idx] = max(grid_max[x_idx, z_idx], yi)\n",
    "        grid_min[x_idx, z_idx] = min(grid_min[x_idx, z_idx], yi)\n",
    "\n",
    "        point_count[x_idx, z_idx] += 1\n",
    "        height_sum[x_idx, z_idx] += yi\n",
    "\n",
    "    # Calculate height variation per cell\n",
    "    height_var = grid_max - grid_min\n",
    "    height_avg = np.divide(height_sum, point_count,\n",
    "                           out=np.full_like(height_sum, np.inf),  # inf for empty cells\n",
    "                           where=point_count != 0)\n",
    "\n",
    "    # Create walkability map\n",
    "    walkable = np.ones_like(height_var, dtype=int)\n",
    "    walkable[np.isinf(height_var)] = 0  # No data cells\n",
    "    walkable[height_var > height_threshold] = 0  # High variation cells\n",
    "\n",
    "    return walkable, (min_x, min_z), (grid_size_x,grid_size_z),walkable.shape\n",
    "\n",
    "\n",
    "def visualize_map(walkable_grid, dpi, max_height_var):\n",
    "    plt.rcParams['font.sans-serif'] = ['SimHei']  # Windows Chinese font\n",
    "    plt.rcParams['axes.unicode_minus'] = False  # Fix minus sign display\n",
    "\n",
    "    \"\"\"Visualize the walkability grid with custom styling\"\"\"\n",
    "    fig, ax = plt.subplots(figsize=(10, 10))\n",
    "\n",
    "    # Custom colormap: green for walkable, red for obstacles\n",
    "    cmap = ListedColormap(['red', 'limegreen'])\n",
    "\n",
    "    # Display the grid\n",
    "    im = ax.imshow(walkable_grid.T, cmap=cmap, origin='lower')\n",
    "\n",
    "    # Add grid lines\n",
    "    ax.set_xticks(np.arange(-0.5, walkable_grid.shape[0], 1), minor=True)\n",
    "    ax.set_yticks(np.arange(-0.5, walkable_grid.shape[1], 1), minor=True)\n",
    "    ax.grid(which='minor', color='black', linestyle='-', linewidth=0.5)\n",
    "\n",
    "    # Customize appearance\n",
    "    # ax.set_title(rf'{float(1000 / dpi)}米一格,高度差{max_height_var}米', fontsize=16)\n",
    "    ax.set_title(rf'{float(1000 / dpi)}meters,high variation{max_height_var}meters', fontsize=16)\n",
    "    ax.set_xlabel('X Grid Index', fontsize=12)\n",
    "    ax.set_ylabel('Z Grid Index', fontsize=12)\n",
    "\n",
    "    # Create legend\n",
    "    from matplotlib.patches import Patch\n",
    "    legend_elements = [\n",
    "        Patch(facecolor='limegreen', label='Walkable Area'),\n",
    "        Patch(facecolor='red', label='Obstacle/High Variation')\n",
    "    ]\n",
    "    ax.legend(handles=legend_elements, loc='upper right')\n",
    "\n",
    "    plt.tight_layout()\n",
    "\n",
    "    plt.savefig(\n",
    "        f'E:\\GIT1\\python_motion_planning\\outputs\\d3dpoint_{dpi}_{str(max_height_var).replace(\"\"\".\"\"\", \"__\")}.png',\n",
    "        dpi=150)  # Save the full frame PNG\n",
    "\n",
    "    plt.show()\n",
    "\n",
    "\n",
    "def save_walkability_data(walkable_grid, origin, grid_size, output_file):\n",
    "    \"\"\"Save walkability data to a text file\"\"\"\n",
    "    with open(output_file, 'w') as f:\n",
    "        f.write(f\"Grid Origin (x,z): {origin[0]:.3f}, {origin[1]:.3f}\\n\")\n",
    "        f.write(f\"Grid Size: {grid_size:.3f}\\n\")\n",
    "        f.write(\"Walkability Grid (1=walkable, 0=obstacle):\\n\")\n",
    "        np.savetxt(f, walkable_grid, fmt='%d')\n"
   ]
  },
  {
   "cell_type": "code",
   "execution_count": 2,
   "id": "9d1a700b-d22d-44f8-b4c6-69ef3b08d386",
   "metadata": {},
   "outputs": [],
   "source": [
    "    ply_file = r\"E:\\GIT1\\python_motion_planning/point_cloud\\datas/total.ply\"  # Replace with your PLY file\n",
    "    ply_file = r\"/home/ws/git/python_motion_planning/point_cloud/datas/total.ply\"  # Replace with your PLY file\n",
    "    cell_size = 1  # 10cm grid cells\n",
    "    dpi = 200\n",
    "    dpi = 1000\n",
    "    dpi = 500\n",
    "    max_height_var = 1  # 5cm max variation\n",
    "    max_height_var = 0.3  # 5cm max variation\n",
    "    max_height_var = 0.5  # 5cm max variation\n",
    "    max_height_var = 1.0  # 5cm max variation\n",
    "\n",
    "    # Process the PLY file\n",
    "    walkable, origin, used_grid_size,dpis = create_walkability_map(\n",
    "        ply_file, dpi=dpi, height_threshold=max_height_var\n",
    "    )"
   ]
  },
  {
   "cell_type": "code",
   "execution_count": 3,
   "id": "4d2d7bb3-2024-42b6-bd9f-47b549a30bec",
   "metadata": {},
   "outputs": [
    {
     "data": {
      "text/plain": [
       "array([[1, 1, 1, ..., 1, 1, 0],\n",
       "       [1, 1, 1, ..., 1, 1, 0],\n",
       "       [1, 1, 1, ..., 1, 1, 0],\n",
       "       ...,\n",
       "       [1, 1, 1, ..., 1, 1, 0],\n",
       "       [1, 1, 1, ..., 1, 1, 0],\n",
       "       [1, 1, 1, ..., 1, 1, 0]], shape=(500, 501))"
      ]
     },
     "execution_count": 3,
     "metadata": {},
     "output_type": "execute_result"
    }
   ],
   "source": [
    "walkable"
   ]
  },
  {
   "cell_type": "code",
   "execution_count": 4,
   "id": "555649ea-7393-48cd-83a9-365f8ca20339",
   "metadata": {},
   "outputs": [
    {
     "data": {
      "text/plain": [
       "(np.float32(1.3002267), np.float32(1.3002267))"
      ]
     },
     "execution_count": 4,
     "metadata": {},
     "output_type": "execute_result"
    }
   ],
   "source": [
    "used_grid_size"
   ]
  },
  {
   "cell_type": "code",
   "execution_count": 5,
   "id": "96c6a6ab-1c33-459d-9e83-2f0bad406cc2",
   "metadata": {},
   "outputs": [],
   "source": []
  },
  {
   "cell_type": "code",
   "execution_count": null,
   "id": "812b5df2-893b-4f74-bf64-4fb7482d772f",
   "metadata": {},
   "outputs": [],
   "source": []
  },
  {
   "cell_type": "code",
   "execution_count": 10,
   "id": "7e9ae45b-2609-4704-beb5-f00a1cdfcdfc",
   "metadata": {},
   "outputs": [
    {
     "name": "stdout",
     "output_type": "stream",
     "text": [
      "[(10, 30), (10, 40), (11, 30), (11, 40), (12, 30), (12, 40), (13, 30), (13, 40), (14, 30), (14, 40), (15, 30), (15, 40), (16, 30), (16, 40), (17, 30), (17, 40), (18, 30), (18, 40), (19, 30), (19, 40), (10, 30), (20, 30), (10, 31), (20, 31), (10, 32), (20, 32), (10, 33), (20, 33), (10, 34), (20, 34), (10, 35), (20, 35), (10, 36), (20, 36), (10, 37), (20, 37), (10, 38), (20, 38), (10, 39), (20, 39), (20, 40)]\n",
      "<class 'list'>\n"
     ]
    }
   ],
   "source": [
    "%run ../tools/gen_block.py  # Load the module"
   ]
  },
  {
   "cell_type": "code",
   "execution_count": 12,
   "id": "7dbe03da-df96-464e-9d37-35f33c485712",
   "metadata": {},
   "outputs": [
    {
     "ename": "ModuleNotFoundError",
     "evalue": "No module named 'python_motion_planning'",
     "output_type": "error",
     "traceback": [
      "\u001b[0;31m---------------------------------------------------------------------------\u001b[0m",
      "\u001b[0;31mModuleNotFoundError\u001b[0m                       Traceback (most recent call last)",
      "Cell \u001b[0;32mIn[12], line 12\u001b[0m\n\u001b[1;32m      7\u001b[0m \u001b[38;5;28;01mfrom\u001b[39;00m\u001b[38;5;250m \u001b[39m\u001b[38;5;21;01mPIL\u001b[39;00m\u001b[38;5;250m \u001b[39m\u001b[38;5;28;01mimport\u001b[39;00m Image, ImageDraw\n\u001b[1;32m      9\u001b[0m \u001b[38;5;66;03m# from tools.gen_block import gen_block\u001b[39;00m\n\u001b[1;32m     10\u001b[0m \n\u001b[1;32m     11\u001b[0m \u001b[38;5;66;03m# sys.path.append(os.path.dirname(os.path.dirname(os.path.abspath(__file__))))\u001b[39;00m\n\u001b[0;32m---> 12\u001b[0m \u001b[38;5;28;01mfrom\u001b[39;00m\u001b[38;5;250m \u001b[39m\u001b[38;5;21;01mpython_motion_planning\u001b[39;00m\u001b[38;5;250m \u001b[39m\u001b[38;5;28;01mimport\u001b[39;00m \u001b[38;5;241m*\u001b[39m\n\u001b[1;32m     13\u001b[0m \u001b[38;5;28;01mimport\u001b[39;00m\u001b[38;5;250m \u001b[39m\u001b[38;5;21;01mmatplotlib\u001b[39;00m\n\u001b[1;32m     14\u001b[0m \u001b[38;5;28;01mfrom\u001b[39;00m\u001b[38;5;250m \u001b[39m\u001b[38;5;21;01mpathlib\u001b[39;00m\u001b[38;5;250m \u001b[39m\u001b[38;5;28;01mimport\u001b[39;00m Path\n",
      "\u001b[0;31mModuleNotFoundError\u001b[0m: No module named 'python_motion_planning'"
     ]
    }
   ],
   "source": [
    "import math\n",
    "import sys, os\n",
    "import time\n",
    "\n",
    "import numpy as np\n",
    "from plyfile import PlyData\n",
    "from PIL import Image, ImageDraw\n",
    "\n",
    "# from tools.gen_block import gen_block\n",
    "\n",
    "# sys.path.append(os.path.dirname(os.path.dirname(os.path.abspath(__file__))))\n",
    "# from python_motion_planning import *\n",
    "import matplotlib\n",
    "from pathlib import Path\n",
    "from decimal import Decimal, ROUND_HALF_UP"
   ]
  },
  {
   "cell_type": "code",
   "execution_count": null,
   "id": "eccdb655-8d06-4d48-a319-6728847ed838",
   "metadata": {},
   "outputs": [],
   "source": []
  },
  {
   "cell_type": "code",
   "execution_count": 21,
   "id": "bc3e5dbe-4aeb-4949-ba22-4fae31148da4",
   "metadata": {},
   "outputs": [],
   "source": [
    "import sys\n",
    "import os\n",
    "\n",
    "# Get the current notebook's directory\n",
    "notebook_dir = os.getcwd()  # or use os.path.dirname(os.path.abspath('__file__'))\n",
    "\n",
    "# Add the parent directory to Python path\n",
    "parent_dir = os.path.dirname(notebook_dir)\n",
    "parent_dir = os.path.dirname(parent_dir)\n",
    "if parent_dir not in sys.path:\n",
    "    sys.path.append(parent_dir)\n",
    "\n",
    "# Now you can import\n",
    "# from tools.gen_block import gen_block\n",
    "\n",
    "from python_motion_planning import *\n",
    "\n"
   ]
  },
  {
   "cell_type": "code",
   "execution_count": 23,
   "id": "acfdcd3e-a777-47b9-bd50-cff8af323b9c",
   "metadata": {},
   "outputs": [
    {
     "name": "stdout",
     "output_type": "stream",
     "text": [
      "/home/ws/git/python_motion_planning\n"
     ]
    },
    {
     "ename": "ModuleNotFoundError",
     "evalue": "No module named 'scra'",
     "output_type": "error",
     "traceback": [
      "\u001b[0;31m---------------------------------------------------------------------------\u001b[0m",
      "\u001b[0;31mModuleNotFoundError\u001b[0m                       Traceback (most recent call last)",
      "Cell \u001b[0;32mIn[23], line 12\u001b[0m\n\u001b[1;32m     10\u001b[0m \u001b[38;5;28;01mif\u001b[39;00m parent_dir \u001b[38;5;129;01mnot\u001b[39;00m \u001b[38;5;129;01min\u001b[39;00m sys\u001b[38;5;241m.\u001b[39mpath:\n\u001b[1;32m     11\u001b[0m     sys\u001b[38;5;241m.\u001b[39mpath\u001b[38;5;241m.\u001b[39mappend(parent_dir)\n\u001b[0;32m---> 12\u001b[0m \u001b[38;5;28;01mfrom\u001b[39;00m\u001b[38;5;250m \u001b[39m\u001b[38;5;21;01mscra\u001b[39;00m\u001b[38;5;250m \u001b[39m\u001b[38;5;28;01mimport\u001b[39;00m \u001b[38;5;241m*\u001b[39m\n",
      "\u001b[0;31mModuleNotFoundError\u001b[0m: No module named 'scra'"
     ]
    }
   ],
   "source": [
    "import sys\n",
    "import os\n",
    "\n",
    "# Get the current notebook's directory\n",
    "notebook_dir = os.getcwd()  # or use os.path.dirname(os.path.abspath('__file__'))\n",
    "\n",
    "# Add the parent directory to Python path\n",
    "parent_dir = os.path.dirname(notebook_dir)\n",
    "print(parent_dir)\n",
    "if parent_dir not in sys.path:\n",
    "    sys.path.append(parent_dir)\n",
    "from scra import *"
   ]
  },
  {
   "cell_type": "code",
   "execution_count": 27,
   "id": "7b16a6e0-b69f-4e7d-a918-35d9ca19b3fa",
   "metadata": {},
   "outputs": [
    {
     "ename": "ImportError",
     "evalue": "attempted relative import with no known parent package",
     "output_type": "error",
     "traceback": [
      "\u001b[0;31m---------------------------------------------------------------------------\u001b[0m",
      "\u001b[0;31mImportError\u001b[0m                               Traceback (most recent call last)",
      "File \u001b[0;32m~/git/python_motion_planning/srca/python_motion_planning/utils/environment/env.py:12\u001b[0m\n\u001b[1;32m      9\u001b[0m \u001b[38;5;28;01mfrom\u001b[39;00m\u001b[38;5;250m \u001b[39m\u001b[38;5;21;01mscipy\u001b[39;00m\u001b[38;5;21;01m.\u001b[39;00m\u001b[38;5;21;01mspatial\u001b[39;00m\u001b[38;5;250m \u001b[39m\u001b[38;5;28;01mimport\u001b[39;00m cKDTree\n\u001b[1;32m     10\u001b[0m \u001b[38;5;28;01mimport\u001b[39;00m\u001b[38;5;250m \u001b[39m\u001b[38;5;21;01mnumpy\u001b[39;00m\u001b[38;5;250m \u001b[39m\u001b[38;5;28;01mas\u001b[39;00m\u001b[38;5;250m \u001b[39m\u001b[38;5;21;01mnp\u001b[39;00m\n\u001b[0;32m---> 12\u001b[0m \u001b[38;5;28;01mfrom\u001b[39;00m\u001b[38;5;250m \u001b[39m\u001b[38;5;21;01m.\u001b[39;00m\u001b[38;5;21;01mnode\u001b[39;00m\u001b[38;5;250m \u001b[39m\u001b[38;5;28;01mimport\u001b[39;00m Node\n\u001b[1;32m     14\u001b[0m \u001b[38;5;28;01mclass\u001b[39;00m\u001b[38;5;250m \u001b[39m\u001b[38;5;21;01mEnv\u001b[39;00m(ABC):\n\u001b[1;32m     15\u001b[0m \u001b[38;5;250m    \u001b[39m\u001b[38;5;124;03m\"\"\"\u001b[39;00m\n\u001b[1;32m     16\u001b[0m \u001b[38;5;124;03m    Class for building 2-d workspace of robots.\u001b[39;00m\n\u001b[1;32m     17\u001b[0m \n\u001b[0;32m   (...)\u001b[0m\n\u001b[1;32m     25\u001b[0m \u001b[38;5;124;03m        # >>> env = Env(30, 40)\u001b[39;00m\n\u001b[1;32m     26\u001b[0m \u001b[38;5;124;03m    \"\"\"\u001b[39;00m\n",
      "\u001b[0;31mImportError\u001b[0m: attempted relative import with no known parent package"
     ]
    }
   ],
   "source": [
    "%run ../srca/python_motion_planning/utils/environment/env.py  # Load the module"
   ]
  },
  {
   "cell_type": "code",
   "execution_count": null,
   "id": "b8ba13de-a011-425a-94ff-8e653b9ef223",
   "metadata": {},
   "outputs": [],
   "source": []
  },
  {
   "cell_type": "code",
   "execution_count": null,
   "id": "e1723cd0-defa-444d-87b4-d6a7c9825bc0",
   "metadata": {},
   "outputs": [],
   "source": []
  },
  {
   "cell_type": "code",
   "execution_count": null,
   "id": "d5033f2b-3c19-4104-a031-e9d79a2c53e7",
   "metadata": {},
   "outputs": [],
   "source": []
  },
  {
   "cell_type": "code",
   "execution_count": 31,
   "id": "459c7453-e091-4a08-9800-3d257c56cf26",
   "metadata": {},
   "outputs": [],
   "source": [
    "from math import sqrt\n",
    "from abc import ABC, abstractmethod\n",
    "from scipy.spatial import cKDTree\n",
    "import numpy as np\n",
    "\n",
    "\"\"\"\n",
    "@file: node.py\n",
    "@breif: 2-dimension node data stucture\n",
    "@author: Yang Haodong, Wu Maojia\n",
    "@update: 2024.3.15\n",
    "\"\"\"\n",
    "\n",
    "class Node(object):\n",
    "    \"\"\"\n",
    "    Class for searching nodes.\n",
    "\n",
    "    Parameters:\n",
    "        current (tuple): current coordinate\n",
    "        parent (tuple): coordinate of parent node\n",
    "        g (float): path cost\n",
    "        h (float): heuristic cost\n",
    "\n",
    "    Examples:\n",
    "        >>> from env import Node\n",
    "        >>> node1 = Node((1, 0), (2, 3), 1, 2)\n",
    "        >>> node2 = Node((1, 0), (2, 5), 2, 8)\n",
    "        >>> node3 = Node((2, 0), (1, 6), 3, 1)\n",
    "        ...\n",
    "        >>> node1 + node2\n",
    "        >>> Node((2, 0), (2, 3), 3, 2)\n",
    "        ...\n",
    "        >>> node1 == node2\n",
    "        >>> True\n",
    "        ...\n",
    "        >>> node1 != node3\n",
    "        >>> True\n",
    "    \"\"\"\n",
    "    def __init__(self, current: tuple, parent: tuple = None, g: float = 0, h: float = 0) -> None:\n",
    "        self.current = current\n",
    "        self.parent = parent\n",
    "        self.g = g\n",
    "        self.h = h\n",
    "    \n",
    "    def __add__(self, node):\n",
    "        assert isinstance(node, Node)\n",
    "        return Node((self.x + node.x, self.y + node.y), self.parent, self.g + node.g, self.h)\n",
    "\n",
    "    def __eq__(self, node) -> bool:\n",
    "        if not isinstance(node, Node):\n",
    "            return False\n",
    "        return self.current == node.current\n",
    "    \n",
    "    def __ne__(self, node) -> bool:\n",
    "        return not self.__eq__(node)\n",
    "\n",
    "    def __lt__(self, node) -> bool:\n",
    "        assert isinstance(node, Node)\n",
    "        return self.g + self.h < node.g + node.h or \\\n",
    "                (self.g + self.h == node.g + node.h and self.h < node.h)\n",
    "\n",
    "    def __hash__(self) -> int:\n",
    "        return hash(self.current)\n",
    "\n",
    "    def __str__(self) -> str:\n",
    "        return \"Node({}, {}, {}, {})\".format(self.current, self.parent, self.g, self.h)\n",
    "\n",
    "    def __repr__(self) -> str:\n",
    "        return self.__str__()\n",
    "    \n",
    "    @property\n",
    "    def x(self) -> float:\n",
    "        return self.current[0]\n",
    "    \n",
    "    @property\n",
    "    def y(self) -> float:\n",
    "        return self.current[1]\n",
    "\n",
    "    @property\n",
    "    def px(self) -> float:\n",
    "        if self.parent:\n",
    "            return self.parent[0]\n",
    "        else:\n",
    "            return None\n",
    "\n",
    "    @property\n",
    "    def py(self) -> float:\n",
    "        if self.parent:\n",
    "            return self.parent[1]\n",
    "        else:\n",
    "            return None\n",
    "\n",
    "class Env(ABC):\n",
    "    \"\"\"\n",
    "    Class for building 2-d workspace of robots.\n",
    "\n",
    "    Parameters:\n",
    "        x_range (int): x-axis range of enviroment\n",
    "        y_range (int): y-axis range of environmet\n",
    "        eps (float): tolerance for float comparison\n",
    "\n",
    "    Examples:\n",
    "        # >>> from python_motion_planning.utils import Env\n",
    "        # >>> env = Env(30, 40)\n",
    "    \"\"\"\n",
    "    def __init__(self, x_range: int, y_range: int, eps: float = 1e-6) -> None:\n",
    "        # size of environment\n",
    "        self.x_range = x_range  \n",
    "        self.y_range = y_range\n",
    "        # self.x_range = 150\n",
    "        # self.y_range = 29\n",
    "\n",
    "        self.eps = eps\n",
    "\n",
    "    @property\n",
    "    def grid_map(self) -> set:\n",
    "        return {(i, j) for i in range(self.x_range) for j in range(self.y_range)}\n",
    "\n",
    "    @abstractmethod\n",
    "    def init(self) -> None:\n",
    "        pass\n",
    "\n",
    "class Grid(Env):\n",
    "    \"\"\"\n",
    "    Class for discrete 2-d grid map.\n",
    "\n",
    "    Parameters:\n",
    "        x_range (int): x-axis range of enviroment\n",
    "        y_range (int): y-axis range of environmet\n",
    "    \"\"\"\n",
    "    def init(self) -> None:\n",
    "        \"\"\"Initialize the grid environment\"\"\"\n",
    "        # Initialize obstacles (empty by default)\n",
    "        self.obstacles = set()\n",
    "        # Create KD-tree for obstacle checking\n",
    "        if self.obstacles:\n",
    "            self.obstacles_tree = cKDTree(np.array(list(self.obstacles)))\n",
    "        else:\n",
    "            self.obstacles_tree = None\n",
    "            \n",
    "    def __init__(self, x_range: int, y_range: int) -> None:\n",
    "        super().__init__(x_range, y_range)\n",
    "        # allowed motions\n",
    "        self.motions = [Node((-1, 0), None, 1, None), Node((-1, 1),  None, sqrt(2), None),\n",
    "                        Node((0, 1),  None, 1, None), Node((1, 1),   None, sqrt(2), None),\n",
    "                        Node((1, 0),  None, 1, None), Node((1, -1),  None, sqrt(2), None),\n",
    "                        Node((0, -1), None, 1, None), Node((-1, -1), None, sqrt(2), None)]\n",
    "        # self.motions = [Node((-1, 0), None, 1, None), Node((-1, 1),  None, sqrt(2), None),\n",
    "        #                 Node((0, 1),  None, 1, None), Node((1, 1),   None, sqrt(2), None),\n",
    "        #                 Node((1, 0),  None, 1, None), Node((1, -1),  None, sqrt(2), None)]\n",
    "\n",
    "        # obstacles\n",
    "        self.obstacles = None\n",
    "        self.obstacles_tree = None\n",
    "        self.init()"
   ]
  },
  {
   "cell_type": "code",
   "execution_count": null,
   "id": "4d82e2fb-f703-4755-8c7a-6cff086e63ef",
   "metadata": {},
   "outputs": [],
   "source": []
  },
  {
   "cell_type": "code",
   "execution_count": null,
   "id": "1fa0f62c-ad74-43a3-af6a-3a79bacceb58",
   "metadata": {},
   "outputs": [],
   "source": []
  },
  {
   "cell_type": "code",
   "execution_count": 35,
   "id": "1b52d770-9722-4e25-bfce-afa2f9a653d7",
   "metadata": {},
   "outputs": [],
   "source": [
    "dpis = (500,501)"
   ]
  },
  {
   "cell_type": "code",
   "execution_count": 36,
   "id": "d10af0df-b8da-4c28-a5c6-aa428cadc507",
   "metadata": {},
   "outputs": [
    {
     "data": {
      "text/plain": [
       "<__main__.Grid at 0x7459dbd23520>"
      ]
     },
     "execution_count": 36,
     "metadata": {},
     "output_type": "execute_result"
    }
   ],
   "source": [
    "# grid_env = Grid(102, 102)\n",
    "grid_env = Grid(dpis[0]+2, dpis[1]+2)\n",
    "grid_env"
   ]
  },
  {
   "cell_type": "code",
   "execution_count": 37,
   "id": "ed520055-0927-4d57-a4cd-1fa5de5999fc",
   "metadata": {},
   "outputs": [],
   "source": [
    "    obstacles = grid_env.obstacles"
   ]
  },
  {
   "cell_type": "code",
   "execution_count": 34,
   "id": "8ad00678-d6fe-471b-a17e-25315d7a5fe2",
   "metadata": {},
   "outputs": [
    {
     "data": {
      "text/plain": [
       "array([[1, 1, 1, ..., 1, 1, 0],\n",
       "       [1, 1, 1, ..., 1, 1, 0],\n",
       "       [1, 1, 1, ..., 1, 1, 0],\n",
       "       ...,\n",
       "       [1, 1, 1, ..., 1, 1, 0],\n",
       "       [1, 1, 1, ..., 1, 1, 0],\n",
       "       [1, 1, 1, ..., 1, 1, 0]], shape=(500, 501))"
      ]
     },
     "execution_count": 34,
     "metadata": {},
     "output_type": "execute_result"
    }
   ],
   "source": [
    "walkable"
   ]
  },
  {
   "cell_type": "code",
   "execution_count": 40,
   "id": "15c49fb9-3f4a-4d86-9a66-4465175e9bdf",
   "metadata": {},
   "outputs": [],
   "source": [
    "obstacle_coords = np.argwhere(walkable == 0).tolist()  # Gets all (row, col) pairs where value is 0\n",
    "obstacle_coords_xy = [(y, x) for x, y in np.argwhere(walkable == 0)]  # Swaps to (col,row) convention\n"
   ]
  },
  {
   "cell_type": "code",
   "execution_count": 41,
   "id": "f70f4ff2-6dde-47f4-af8c-0a9ff3838166",
   "metadata": {},
   "outputs": [
    {
     "ename": "AttributeError",
     "evalue": "'Grid' object has no attribute 'update'",
     "output_type": "error",
     "traceback": [
      "\u001b[0;31m---------------------------------------------------------------------------\u001b[0m",
      "\u001b[0;31mAttributeError\u001b[0m                            Traceback (most recent call last)",
      "Cell \u001b[0;32mIn[41], line 1\u001b[0m\n\u001b[0;32m----> 1\u001b[0m \u001b[43mgrid_env\u001b[49m\u001b[38;5;241;43m.\u001b[39;49m\u001b[43mupdate\u001b[49m(obstacle_coords_xy)\n",
      "\u001b[0;31mAttributeError\u001b[0m: 'Grid' object has no attribute 'update'"
     ]
    }
   ],
   "source": [
    "grid_env.update(obstacle_coords_xy)"
   ]
  },
  {
   "cell_type": "code",
   "execution_count": null,
   "id": "91bf5fd0-dce6-4c53-bb04-b917ace26a1e",
   "metadata": {},
   "outputs": [],
   "source": []
  },
  {
   "cell_type": "code",
   "execution_count": null,
   "id": "0291b8e1-c9cd-473f-bf6c-f76f0d9c1071",
   "metadata": {},
   "outputs": [],
   "source": []
  },
  {
   "cell_type": "code",
   "execution_count": null,
   "id": "54b5d3e8-68e0-40b7-be76-2cc79762e50d",
   "metadata": {},
   "outputs": [],
   "source": []
  },
  {
   "cell_type": "code",
   "execution_count": null,
   "id": "bc445199-1f01-46c1-85f3-4c8873bf68bc",
   "metadata": {},
   "outputs": [],
   "source": []
  },
  {
   "cell_type": "code",
   "execution_count": null,
   "id": "ac2f9fe6-1879-43b5-a476-7d72465f1689",
   "metadata": {},
   "outputs": [],
   "source": [
    "def walkable2obstacles(walkable):\n",
    "    obstacle_coords = np.argwhere(walkable == 0).tolist()  # Gets all (row, col) pairs where value is 0\n",
    "\n",
    "# If you need (x,y) format instead of (row,col), you can modify:\n",
    "obstacle_coords_xy = [(y, x) for x, y in np.argwhere(walkable == 0)]  # Swaps to (col,row) convention"
   ]
  }
 ],
 "metadata": {
  "kernelspec": {
   "display_name": "motion_plan",
   "language": "python",
   "name": "motion_plan"
  },
  "language_info": {
   "codemirror_mode": {
    "name": "ipython",
    "version": 3
   },
   "file_extension": ".py",
   "mimetype": "text/x-python",
   "name": "python",
   "nbconvert_exporter": "python",
   "pygments_lexer": "ipython3",
   "version": "3.10.12"
  }
 },
 "nbformat": 4,
 "nbformat_minor": 5
}
