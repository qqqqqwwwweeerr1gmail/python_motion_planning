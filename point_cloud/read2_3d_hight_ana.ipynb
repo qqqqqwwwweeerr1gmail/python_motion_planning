{
 "cells": [
  {
   "cell_type": "code",
   "execution_count": null,
   "id": "128c1c39-9cd7-4ea7-a92b-091a7fadfb4a",
   "metadata": {},
   "outputs": [],
   "source": [
    "import numpy as np\n",
    "import matplotlib.pyplot as plt\n",
    "from mpl_toolkits.mplot3d import Axes3D\n",
    "import trimesh\n",
    "\n",
    "# Load PLY file\n",
    "mesh = trimesh.load(rf'E:\\GIT1\\python_motion_planning\\point_cloud\\total_world_space_pc(1).ply')\n",
    "\n",
    "# Extract vertices (assuming it's a point cloud)\n",
    "points = mesh.vertices  # Shape: (N, 3)\n",
    "\n",
    "points = points[::10]\n",
    "\n",
    "# Create a 3D plot\n",
    "fig = plt.figure(figsize=(10, 8))\n",
    "ax = fig.add_subplot(111, projection='3d')\n",
    "\n",
    "# Scatter plot\n",
    "ax.scatter(\n",
    "    points[:, 0],  # X-axis\n",
    "    points[:, 1],  # Y-axis\n",
    "    points[:, 2],  # Z-axis\n",
    "    s=1,           # Point size\n",
    "    c=points[:, 2], # Color by height (Z-axis)\n",
    "    cmap='viridis', # Color map\n",
    "    alpha=0.5       # Transparency\n",
    ")\n",
    "\n",
    "# Labels and title\n",
    "ax.set_xlabel('X')\n",
    "ax.set_ylabel('Y')\n",
    "ax.set_zlabel('Z')\n",
    "ax.set_title('3D Point Cloud (Matplotlib)')\n",
    "\n",
    "plt.show()"
   ]
  },
  {
   "cell_type": "code",
   "execution_count": null,
   "id": "89b27d40-915a-4f91-90b8-e5be520ba590",
   "metadata": {},
   "outputs": [],
   "source": []
  },
  {
   "cell_type": "code",
   "execution_count": null,
   "id": "dc041590-ea8b-41d9-add7-1c54996ae93b",
   "metadata": {},
   "outputs": [],
   "source": []
  },
  {
   "cell_type": "code",
   "execution_count": null,
   "id": "105db2a7-ddcc-4f5c-923f-a88e022e8460",
   "metadata": {},
   "outputs": [],
   "source": []
  },
  {
   "cell_type": "code",
   "execution_count": null,
   "id": "053ee9e6-a16c-4861-ada9-d92818bb4653",
   "metadata": {},
   "outputs": [],
   "source": []
  },
  {
   "cell_type": "code",
   "execution_count": null,
   "id": "1b184e20-2798-453e-a207-5b0203789d66",
   "metadata": {},
   "outputs": [],
   "source": []
  },
  {
   "cell_type": "code",
   "execution_count": null,
   "id": "c13ef558-345d-47c8-bfb0-1915b33051f6",
   "metadata": {},
   "outputs": [],
   "source": []
  },
  {
   "cell_type": "code",
   "execution_count": null,
   "id": "c0988dcc-75b3-4f48-88e1-9779042124a5",
   "metadata": {},
   "outputs": [],
   "source": []
  },
  {
   "cell_type": "code",
   "execution_count": null,
   "id": "d7e7aa06-7a63-4a5b-adfa-32176866269e",
   "metadata": {},
   "outputs": [],
   "source": []
  },
  {
   "cell_type": "code",
   "execution_count": null,
   "id": "6fa89c46-f15a-4d4f-ba57-bd70dd4ec39f",
   "metadata": {},
   "outputs": [],
   "source": []
  },
  {
   "cell_type": "code",
   "execution_count": null,
   "id": "9acea1c8-f70e-4e91-af18-5bc316ed6f71",
   "metadata": {},
   "outputs": [],
   "source": []
  },
  {
   "cell_type": "code",
   "execution_count": null,
   "id": "346d31cb-c014-4637-a91b-1e895c232baf",
   "metadata": {},
   "outputs": [],
   "source": []
  },
  {
   "cell_type": "code",
   "execution_count": null,
   "id": "49413cb5-48cf-4e30-b0d5-1cc8cb441d58",
   "metadata": {},
   "outputs": [],
   "source": []
  },
  {
   "cell_type": "code",
   "execution_count": null,
   "id": "064ff0c4-b889-4db3-9b7c-d81c3c08ff74",
   "metadata": {},
   "outputs": [],
   "source": []
  },
  {
   "cell_type": "code",
   "execution_count": null,
   "id": "0bdf0be6-8337-434e-b3c9-75c256e057e7",
   "metadata": {},
   "outputs": [],
   "source": []
  }
 ],
 "metadata": {
  "kernelspec": {
   "display_name": "Python 3 (ipykernel)",
   "language": "python",
   "name": "python3"
  },
  "language_info": {
   "codemirror_mode": {
    "name": "ipython",
    "version": 3
   },
   "file_extension": ".py",
   "mimetype": "text/x-python",
   "name": "python",
   "nbconvert_exporter": "python",
   "pygments_lexer": "ipython3",
   "version": "3.12.4"
  }
 },
 "nbformat": 4,
 "nbformat_minor": 5
}
