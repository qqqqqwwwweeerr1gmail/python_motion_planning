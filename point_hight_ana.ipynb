{
 "cells": [
  {
   "cell_type": "code",
   "execution_count": 4,
   "id": "5a4ac97f-b242-45db-95c8-465a8c57ead9",
   "metadata": {},
   "outputs": [],
   "source": [
    "    ply_path = r\"/home/ws/git/python_motion_planning/point_cloud/datas/total.ply\"  # Replace with your PLY file\n",
    "    cell_size = 1  # 10cm grid cells\n",
    "    dpi = 200\n",
    "    dpi = 1000\n",
    "    dpi = 500\n",
    "    max_height_var = 1  # 5cm max variation\n",
    "    max_height_var = 0.3  # 5cm max variation\n",
    "    max_height_var = 0.5  # 5cm max variation\n",
    "    max_height_var = 1.0  # 5cm max variation"
   ]
  },
  {
   "cell_type": "code",
   "execution_count": 2,
   "id": "88398194-e598-41fb-941b-1beb4122033f",
   "metadata": {},
   "outputs": [],
   "source": [
    "import math\n",
    "\n",
    "import numpy as np\n",
    "import matplotlib.pyplot as plt\n",
    "from plyfile import PlyData\n",
    "from matplotlib.colors import ListedColormap"
   ]
  },
  {
   "cell_type": "code",
   "execution_count": 5,
   "id": "3c41129e-5ed9-4f8c-8573-5e62ef9646bf",
   "metadata": {},
   "outputs": [],
   "source": [
    "    plydata = PlyData.read(ply_path)\n",
    "    vertices = plydata['vertex']\n",
    "    x = vertices['x']\n",
    "    y = vertices['y']  # Height/attitude values\n",
    "    z = vertices['z']\n",
    "\n",
    "    xx = vertices.data['x']\n",
    "\n",
    "    z = [-i for i in z]\n",
    "\n",
    "    # Calculate grid dimensions\n",
    "    min_x, max_x = np.min(x), np.max(x)\n",
    "    min_z, max_z = np.min(z), np.max(z)\n",
    "    min_y, max_y = np.min(y), np.max(y)\n",
    "\n",
    "    range_x = (max_x - min_x)\n",
    "    range_y = (max_y - min_y)\n",
    "    range_z = (max_z - min_z)\n",
    "\n",
    "    grid_size_x = range_x/(math.sqrt(dpi*dpi/(range_x*range_z))*range_x)\n",
    "    grid_size_z = range_z/(math.sqrt(dpi*dpi/(range_x*range_z))*range_z)\n",
    "\n",
    "\n",
    "\n",
    "    # grid_size = int((max_x - min_x) / dpi)\n",
    "\n",
    "    # Create grid bins\n",
    "    x_bins = np.arange(min_x, max_x + grid_size_x, grid_size_x)\n",
    "    z_bins = np.arange(min_z, max_z + grid_size_z, grid_size_z)\n",
    "\n",
    "    # Initialize height extremes\n",
    "    grid_max = np.full((len(x_bins) - 1, len(z_bins) - 1), -np.inf)\n",
    "    grid_min = np.full((len(x_bins) - 1, len(z_bins) - 1), np.inf)\n",
    "\n",
    "    point_count = np.zeros((len(x_bins) - 1, len(z_bins) - 1), dtype=int)\n",
    "    height_sum = np.zeros((len(x_bins) - 1, len(z_bins) - 1))\n",
    "    height_avg = np.zeros((len(x_bins) - 1, len(z_bins) - 1), dtype=int)"
   ]
  },
  {
   "cell_type": "code",
   "execution_count": null,
   "id": "d5259a32-a4f1-446e-9281-553e3ef53142",
   "metadata": {},
   "outputs": [],
   "source": [
    "    for xi, yi, zi in zip(x, y, z):\n",
    "        x_idx = np.digitize(xi, x_bins) - 1\n",
    "        z_idx = np.digitize(zi, z_bins) - 1\n",
    "\n",
    "        # Handle edge cases\n",
    "        x_idx = max(0, min(x_idx, grid_max.shape[0] - 1))\n",
    "        z_idx = max(0, min(z_idx, grid_max.shape[1] - 1))\n",
    "\n",
    "        # Update height extremes\n",
    "        grid_max[x_idx, z_idx] = max(grid_max[x_idx, z_idx], yi)\n",
    "        grid_min[x_idx, z_idx] = min(grid_min[x_idx, z_idx], yi)\n",
    "\n",
    "        point_count[x_idx, z_idx] += 1\n",
    "        height_sum[x_idx, z_idx] += yi\n",
    "\n",
    "    # Calculate height variation per cell\n",
    "    height_var = grid_max - grid_min"
   ]
  },
  {
   "cell_type": "code",
   "execution_count": null,
   "id": "9c1efc95-f71a-4b92-80cf-5daa0d74447a",
   "metadata": {},
   "outputs": [],
   "source": []
  },
  {
   "cell_type": "code",
   "execution_count": null,
   "id": "f9ed1e04-275d-47e2-8c7d-1a6e0d947e36",
   "metadata": {},
   "outputs": [],
   "source": []
  }
 ],
 "metadata": {
  "kernelspec": {
   "display_name": "motion_plan",
   "language": "python",
   "name": "motion_plan"
  },
  "language_info": {
   "codemirror_mode": {
    "name": "ipython",
    "version": 3
   },
   "file_extension": ".py",
   "mimetype": "text/x-python",
   "name": "python",
   "nbconvert_exporter": "python",
   "pygments_lexer": "ipython3",
   "version": "3.10.12"
  }
 },
 "nbformat": 4,
 "nbformat_minor": 5
}
